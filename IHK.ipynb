{
  "nbformat": 4,
  "nbformat_minor": 0,
  "metadata": {
    "colab": {
      "name": "IHK.ipynb",
      "provenance": [],
      "collapsed_sections": [],
      "authorship_tag": "ABX9TyPQ2ResSiOBXItY9ovc0UAl",
      "include_colab_link": true
    },
    "kernelspec": {
      "display_name": "Python 3",
      "name": "python3"
    },
    "language_info": {
      "name": "python"
    }
  },
  "cells": [
    {
      "cell_type": "markdown",
      "metadata": {
        "id": "view-in-github",
        "colab_type": "text"
      },
      "source": [
        "<a href=\"https://colab.research.google.com/github/AhmadDzakiPutraDimas/Prediksi-Indeks-Harga-Konsumen-Menggunakan-RNN-Recurrent-Neural-Network-/blob/main/IHK.ipynb\" target=\"_parent\"><img src=\"https://colab.research.google.com/assets/colab-badge.svg\" alt=\"Open In Colab\"/></a>"
      ]
    },
    {
      "cell_type": "code",
      "metadata": {
        "id": "PEgpxYqLBTBj"
      },
      "source": [
        "import numpy as np\n",
        "import matplotlib.pyplot as plt\n",
        "import pandas as pd\n",
        "import tensorflow as tf\n",
        "import sklearn\n",
        "from tensorflow import keras\n",
        "from sklearn.preprocessing import MinMaxScaler\n",
        "from sklearn.model_selection import train_test_split\n",
        "import gspread\n",
        "from pydrive.auth import GoogleAuth\n",
        "from pydrive.drive import GoogleDrive\n",
        "from google.colab import auth\n",
        "from keras.models import Sequential\n",
        "from keras.layers import Dense, SimpleRNN\n",
        "from oauth2client.client import GoogleCredentials\n",
        "\n",
        "auth.authenticate_user()\n",
        "gauth = GoogleAuth()\n",
        "gauth.credentials = GoogleCredentials.get_application_default()\n",
        "drive = GoogleDrive(gauth)\n",
        "drive_id = '4/1AX4XfWgOM1GOCygd1pFEdR1_TioP63dK_xjFcX9rALYIpYqgbtiyKQinuu4'\n",
        "files = drive.CreateFile({'id': drive_id})\n",
        " \n",
        "gc = gspread.authorize(gauth.credentials)\n",
        "url = 'https://docs.google.com/spreadsheets/d/130RhUSYLwk5DXnBI0CvCcgYrgbKXxSoxgF6nIHyqVnE/edit?usp=sharing'\n",
        "worksheet = gc.open_by_url(url).sheet1\n",
        "rows = worksheet.get_all_records()"
      ],
      "execution_count": null,
      "outputs": []
    },
    {
      "cell_type": "code",
      "metadata": {
        "id": "1XlIzJnyCZBr",
        "colab": {
          "base_uri": "https://localhost:8080/",
          "height": 419
        },
        "outputId": "89bb8a2a-91c8-47c3-a17b-b6500d5a0ea9"
      },
      "source": [
        "tabel = pd.DataFrame.from_records(rows)\n",
        "tabel"
      ],
      "execution_count": null,
      "outputs": [
        {
          "output_type": "execute_result",
          "data": {
            "text/html": [
              "<div>\n",
              "<style scoped>\n",
              "    .dataframe tbody tr th:only-of-type {\n",
              "        vertical-align: middle;\n",
              "    }\n",
              "\n",
              "    .dataframe tbody tr th {\n",
              "        vertical-align: top;\n",
              "    }\n",
              "\n",
              "    .dataframe thead th {\n",
              "        text-align: right;\n",
              "    }\n",
              "</style>\n",
              "<table border=\"1\" class=\"dataframe\">\n",
              "  <thead>\n",
              "    <tr style=\"text-align: right;\">\n",
              "      <th></th>\n",
              "      <th>Bulan</th>\n",
              "      <th>IHK</th>\n",
              "    </tr>\n",
              "  </thead>\n",
              "  <tbody>\n",
              "    <tr>\n",
              "      <th>0</th>\n",
              "      <td>January 2016</td>\n",
              "      <td>95.14</td>\n",
              "    </tr>\n",
              "    <tr>\n",
              "      <th>1</th>\n",
              "      <td>February 2016</td>\n",
              "      <td>95.54</td>\n",
              "    </tr>\n",
              "    <tr>\n",
              "      <th>2</th>\n",
              "      <td>March 2016</td>\n",
              "      <td>95.67</td>\n",
              "    </tr>\n",
              "    <tr>\n",
              "      <th>3</th>\n",
              "      <td>April 2016</td>\n",
              "      <td>94.90</td>\n",
              "    </tr>\n",
              "    <tr>\n",
              "      <th>4</th>\n",
              "      <td>May 2016</td>\n",
              "      <td>94.88</td>\n",
              "    </tr>\n",
              "    <tr>\n",
              "      <th>...</th>\n",
              "      <td>...</td>\n",
              "      <td>...</td>\n",
              "    </tr>\n",
              "    <tr>\n",
              "      <th>62</th>\n",
              "      <td>March 2021</td>\n",
              "      <td>106.83</td>\n",
              "    </tr>\n",
              "    <tr>\n",
              "      <th>63</th>\n",
              "      <td>April 2021</td>\n",
              "      <td>106.68</td>\n",
              "    </tr>\n",
              "    <tr>\n",
              "      <th>64</th>\n",
              "      <td>May 2021</td>\n",
              "      <td>107.36</td>\n",
              "    </tr>\n",
              "    <tr>\n",
              "      <th>65</th>\n",
              "      <td>June 2021</td>\n",
              "      <td>107.43</td>\n",
              "    </tr>\n",
              "    <tr>\n",
              "      <th>66</th>\n",
              "      <td>July 2021</td>\n",
              "      <td>107.71</td>\n",
              "    </tr>\n",
              "  </tbody>\n",
              "</table>\n",
              "<p>67 rows × 2 columns</p>\n",
              "</div>"
            ],
            "text/plain": [
              "            Bulan     IHK\n",
              "0    January 2016   95.14\n",
              "1   February 2016   95.54\n",
              "2      March 2016   95.67\n",
              "3      April 2016   94.90\n",
              "4        May 2016   94.88\n",
              "..            ...     ...\n",
              "62     March 2021  106.83\n",
              "63     April 2021  106.68\n",
              "64       May 2021  107.36\n",
              "65      June 2021  107.43\n",
              "66      July 2021  107.71\n",
              "\n",
              "[67 rows x 2 columns]"
            ]
          },
          "metadata": {},
          "execution_count": 16
        }
      ]
    },
    {
      "cell_type": "code",
      "metadata": {
        "id": "eaGnWMUNDGIG",
        "colab": {
          "base_uri": "https://localhost:8080/",
          "height": 279
        },
        "outputId": "fb79903c-460d-4a94-fc14-4809fd437ec6"
      },
      "source": [
        "data = tabel.loc[:,'IHK']\n",
        "dataset = data.values\n",
        "IndeksHK = dataset.astype('float32')\n",
        "IndeksHK = np.array(IndeksHK.reshape(-1,1))\n",
        "\n",
        "plt.plot(IndeksHK, label='Indeks Harga Konsumen')\n",
        "plt.xlabel('Bulan')\n",
        "plt.ylabel('Indeks')\n",
        "plt.legend()\n",
        "plt.show()"
      ],
      "execution_count": null,
      "outputs": [
        {
          "output_type": "display_data",
          "data": {
            "image/png": "[encoded data removed]",
            "text/plain": [
              "<Figure size 432x288 with 1 Axes>"
            ]
          },
          "metadata": {
            "needs_background": "light"
          }
        }
      ]
    },
    {
      "cell_type": "code",
      "metadata": {
        "id": "Yc-3klQ0cm9w"
      },
      "source": [
        " def HK (rand,lookback): \n",
        "  x, y = matriks(rand, look_back) \n",
        "  x = np.reshape(x, (x.shape[0], 1, x.shape[1])) \n",
        "  xTrain,yTrain,xTest,yTest= x[0:52,:],y[0:52,:], x[52:,:],y[52:,:]\n",
        " \n",
        "  return xTrain, yTrain ,xTest, yTest"
      ],
      "execution_count": null,
      "outputs": []
    },
    {
      "cell_type": "code",
      "metadata": {
        "id": "sliKIKFqNfxn"
      },
      "source": [
        "xTrain,yTrain,xTest,yTest"
      ],
      "execution_count": null,
      "outputs": []
    },
    {
      "cell_type": "code",
      "metadata": {
        "id": "0Q2dhOOaYO4u"
      },
      "source": [
        "def scale_invers (ihh,model):\n",
        "  scaler =MinMaxScaler(feature_range=(0,1))\n",
        "  rand=scaler.fit_transform(ihh)\n",
        "  r = scaler.inverse_transform(model)\n",
        "  return rand,r\n"
      ],
      "execution_count": null,
      "outputs": []
    },
    {
      "cell_type": "code",
      "metadata": {
        "id": "55mXA9ADGrIK"
      },
      "source": [
        "def matriks(data_arr, look_back):\n",
        "  X, Y = [], []\n",
        "  for i in range(len(data_arr)-look_back):\n",
        "    d=i+look_back\n",
        "    X.append(data_arr[i:d])\n",
        "    Y.append(data_arr[d])\n",
        "\n",
        "  X = np.array(X)\n",
        "  Y = np.array(Y)\n",
        "\n",
        "  return X, Y\n",
        "\n",
        "def model_loss(history,case):\n",
        "  plt.plot(history.history['loss'], label='Training Loss')\n",
        "  plt.title('model_loss'+str(case))\n",
        "  plt.ylabel('loss')\n",
        "  plt.xlabel('epoch')\n",
        "  plt.show;"
      ],
      "execution_count": null,
      "outputs": []
    },
    {
      "cell_type": "code",
      "metadata": {
        "id": "rxWEQ38Fcccd"
      },
      "source": [
        "  look_back = 5\n",
        "\n",
        "  model=Sequential()\n",
        "  model.add(SimpleRNN(units=30, input_dim=look_back, activation='relu')) #Input Layer\n",
        "  model.add(Dense(70, activation='relu')) #Hidden layer 1\n",
        "  model.add(Dense(40, activation='relu')) #Hidden layer 2\n",
        "  model.add(Dense(1)) #output\n",
        "  model.compile(loss='mean_squared_error',  optimizer='adam',metrics = ['mse', 'mae'])"
      ],
      "execution_count": null,
      "outputs": []
    },
    {
      "cell_type": "code",
      "metadata": {
        "colab": {
          "base_uri": "https://localhost:8080/",
          "height": 265
        },
        "id": "-b9QlriFMetU",
        "outputId": "bd8a8533-e9c1-4810-fefd-1070074905e2"
      },
      "source": [
        "randIHK,rIHK=scale_invers(IndeksHK,IndeksHK)\n",
        "\n",
        "plt.plot(randIHK, label='Model IHK')\n",
        "plt.legend()\n",
        "plt.show()"
      ],
      "execution_count": null,
      "outputs": [
        {
          "output_type": "display_data",
          "data": {
            "image/png": "[encoded data removed]",
            "text/plain": [
              "<Figure size 432x288 with 1 Axes>"
            ]
          },
          "metadata": {
            "needs_background": "light"
          }
        }
      ]
    },
    {
      "cell_type": "code",
      "metadata": {
        "id": "YOUOmK-Tjswx"
      },
      "source": [
        "t = np.arange(len(randIHK))"
      ],
      "execution_count": null,
      "outputs": []
    },
    {
      "cell_type": "code",
      "metadata": {
        "colab": {
          "base_uri": "https://localhost:8080/",
          "height": 543
        },
        "id": "fuqpewbNhe0k",
        "outputId": "2bdcaf76-2788-477a-ed67-9ccc998a5094"
      },
      "source": [
        "xTrain, yTrain, xTest, yTest = HK(randIHK,look_back)\n",
        "history1 = model.fit(xTrain, yTrain, epochs=500,verbose = 0)\n",
        "trainPrediksiIHK = model.predict(xTrain)\n",
        "testPrediksiIHK = model.predict(xTest)\n",
        "\n",
        "rand, trainPrediksiIHK = scale_invers(IndeksHK, trainPrediksiIHK)\n",
        "rand, yTrain = scale_invers(IndeksHK, yTrain)\n",
        "rand, testPrediksiIHK = scale_invers(IndeksHK,testPrediksiIHK)\n",
        "rand, yTest = scale_invers(IndeksHK, yTest)\n",
        "\n",
        "rr, rrr = scale_invers(IndeksHK, randIHK)\n",
        "plt.plot(rrr, label='Model IHK')\n",
        "plt.plot(t[look_back:52+look_back],trainPrediksiIHK,'--',label='Train RNN IHK')\n",
        "plt.plot(t[52+look_back:], yTest,label='Model Test IHK')\n",
        "plt.plot(t[52+look_back:],testPrediksiIHK,':',label='Test RNN IHK')\n",
        "plt.legend(loc='upper left')\n",
        "plt.show()\n",
        "model_loss(history1,' training IHK')"
      ],
      "execution_count": null,
      "outputs": [
        {
          "output_type": "display_data",
          "data": {
            "image/png": "[encoded data removed]",
            "text/plain": [
              "<Figure size 432x288 with 1 Axes>"
            ]
          },
          "metadata": {
            "needs_background": "light"
          }
        },
        {
          "output_type": "display_data",
          "data": {
            "image/png": "[encoded data removed]",
            "text/plain": [
              "<Figure size 432x288 with 1 Axes>"
            ]
          },
          "metadata": {
            "needs_background": "light"
          }
        }
      ]
    },
    {
      "cell_type": "code",
      "metadata": {
        "colab": {
          "base_uri": "https://localhost:8080/",
          "height": 265
        },
        "id": "UNewLNep8XY-",
        "outputId": "adebdbdd-5366-4919-9b0d-d4f1cd528ded"
      },
      "source": [
        "plt.plot(yTest, label='Model IHK')\n",
        "plt.plot(testPrediksiIHK, '--', label='Model RNN IHK')\n",
        "plt.legend(loc='upper left')\n",
        "plt.show()"
      ],
      "execution_count": null,
      "outputs": [
        {
          "output_type": "display_data",
          "data": {
            "image/png": "[encoded data removed]",
            "text/plain": [
              "<Figure size 432x288 with 1 Axes>"
            ]
          },
          "metadata": {
            "needs_background": "light"
          }
        }
      ]
    },
    {
      "cell_type": "code",
      "metadata": {
        "colab": {
          "base_uri": "https://localhost:8080/"
        },
        "id": "8hUsocpbe_Ri",
        "outputId": "5a18ce73-4962-4026-f874-4dbc0c20eeb7"
      },
      "source": [
        "trainScore = np.sqrt(np.mean(yTrain[:,0] - trainPrediksiIHK[:,0])**2)\n",
        "print('Train Score IHK: %.6f RMSE'%(trainScore))\n",
        "testScore = np.sqrt(np.mean(yTest[:,0] - testPrediksiIHK[:,0])**2)\n",
        "print('Test Score IHK: %.6f RMSE'%(testScore))\n"
      ],
      "execution_count": null,
      "outputs": [
        {
          "output_type": "stream",
          "name": "stdout",
          "text": [
            "Train Score IHK: 0.034293 RMSE\n",
            "Test Score IHK: 0.269951 RMSE\n"
          ]
        }
      ]
    },
    {
      "cell_type": "code",
      "metadata": {
        "id": "rm2ZvIWcxMci"
      },
      "source": [
        "new_tabel = tabel.loc[:,'IHK']\n",
        "new_tabel = new_tabel.values\n",
        "new_tabel = new_tabel.reshape(-1,1)"
      ],
      "execution_count": null,
      "outputs": []
    },
    {
      "cell_type": "code",
      "metadata": {
        "colab": {
          "base_uri": "https://localhost:8080/"
        },
        "id": "M4rAVkFmxyMz",
        "outputId": "ad66e17a-e00f-4841-d3bd-2a473189001d"
      },
      "source": [
        "mmscaler = MinMaxScaler(feature_range=(0,1))\n",
        "last_day_scaled = mmscaler.fit_transform(new_tabel[-5:])\n",
        "\n",
        "X_test = []\n",
        "X_test.append(last_day_scaled)\n",
        "\n",
        "X_test = np.array(X_test)\n",
        "X_test = np.reshape(X_test, (X_test.shape[0], X_test.shape[0],5))\n",
        "\n",
        "pred_IHK = model.predict(X_test)\n",
        "pred_IHK_unscaled = mmscaler.inverse_transform(pred_IHK)\n",
        "\n",
        "lastest_IHK = round(new_tabel.ravel()[66], 2)\n",
        "predicted_IHK = round(pred_IHK_unscaled.ravel()[0], 2)\n",
        "\n",
        "print(f'Angka IHK terbaru: {lastest_IHK}')\n",
        "print(f'Prediksi Angka IHK bulan Depan: {predicted_IHK}')"
      ],
      "execution_count": null,
      "outputs": [
        {
          "output_type": "stream",
          "name": "stdout",
          "text": [
            "Angka IHK terbaru: 107.71\n",
            "Prediksi Angka IHK bulan Depan: 107.36000061035156\n"
          ]
        }
      ]
    },
    {
      "cell_type": "code",
      "metadata": {
        "id": "mDVV6zgHgmt5"
      },
      "source": [
        "matriks = np.eye(3)\n",
        "matriks"
      ],
      "execution_count": null,
      "outputs": []
    }
  ]
}